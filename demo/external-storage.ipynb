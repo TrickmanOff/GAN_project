{
 "cells": [
  {
   "cell_type": "code",
   "execution_count": null,
   "id": "1b0f4311",
   "metadata": {},
   "outputs": [],
   "source": [
    "# locally\n",
    "import os\n",
    "import sys\n",
    "\n",
    "\n",
    "os.chdir(os.path.dirname(os.getcwd()))"
   ]
  },
  {
   "cell_type": "code",
   "execution_count": 6,
   "id": "65c943d5",
   "metadata": {
    "execution": {
     "iopub.execute_input": "2023-05-17T16:36:07.295373Z",
     "iopub.status.busy": "2023-05-17T16:36:07.294985Z",
     "iopub.status.idle": "2023-05-17T16:36:07.302069Z",
     "shell.execute_reply": "2023-05-17T16:36:07.300120Z",
     "shell.execute_reply.started": "2023-05-17T16:36:07.295339Z"
    }
   },
   "outputs": [],
   "source": [
    "# on Kaggle\n",
    "import sys\n",
    "sys.path.append('/kaggle/input/gan-training')"
   ]
  },
  {
   "cell_type": "markdown",
   "id": "996710b9",
   "metadata": {},
   "source": [
    "# Пример загрузки обученных моделей"
   ]
  },
  {
   "cell_type": "markdown",
   "id": "2b3fd132",
   "metadata": {},
   "source": [
    "Предварительно желательно отключить логирование в WandB, выставив значение `enable_logging: False` в `logger.yaml`, т.к. в этом ноутбуке оно не понадобится.\n",
    "\n",
    "Предполагается, что конфигурационные файлы настроены (в частности, указана директория, в которой находится [датасет](https://disk.yandex.ru/d/hcnBVM-FbKdwEQ))."
   ]
  },
  {
   "cell_type": "markdown",
   "id": "1f087164",
   "metadata": {},
   "source": [
    "Хранилище обученных моделей для физических задач находится на Google Диске - [тык](https://drive.google.com/drive/folders/1OiLjp7nSeWke-DHXY5ijvYcmKTRlPkrg?usp=sharing)\n",
    "\n",
    "Чтобы подключиться к нему через `GDriveStorage`, необходимо авторизоваться в аккаунт, имеющий право на чтение из этой директории. Далее будет рассмотрена авторизация с помощью credentials сервисного аккаунта."
   ]
  },
  {
   "cell_type": "markdown",
   "id": "d9d2141f",
   "metadata": {},
   "source": [
    "1. Загрузим JSON-файл с credentials по [ссылке](https://drive.google.com/file/d/1sIDQJqHJ8RAlS0OZxGCKMTKzDxbPrugn/view?usp=share_link)"
   ]
  },
  {
   "cell_type": "code",
   "execution_count": 7,
   "id": "43814dc9",
   "metadata": {
    "execution": {
     "iopub.execute_input": "2023-05-17T16:36:14.057601Z",
     "iopub.status.busy": "2023-05-17T16:36:14.057039Z",
     "iopub.status.idle": "2023-05-17T16:36:16.147735Z",
     "shell.execute_reply": "2023-05-17T16:36:16.146548Z",
     "shell.execute_reply.started": "2023-05-17T16:36:14.057566Z"
    },
    "scrolled": true
   },
   "outputs": [
    {
     "name": "stdout",
     "output_type": "stream",
     "text": [
      "--2023-05-17 16:36:14--  https://drive.google.com/u/1/uc?id=1sIDQJqHJ8RAlS0OZxGCKMTKzDxbPrugn&export=download\n",
      "Resolving drive.google.com (drive.google.com)... 108.177.126.102, 108.177.126.139, 108.177.126.113, ...\n",
      "Connecting to drive.google.com (drive.google.com)|108.177.126.102|:443... connected.\n",
      "HTTP request sent, awaiting response... 302 Found\n",
      "Location: https://drive.google.com/uc?id=1sIDQJqHJ8RAlS0OZxGCKMTKzDxbPrugn&export=download [following]\n",
      "--2023-05-17 16:36:15--  https://drive.google.com/uc?id=1sIDQJqHJ8RAlS0OZxGCKMTKzDxbPrugn&export=download\n",
      "Reusing existing connection to drive.google.com:443.\n",
      "HTTP request sent, awaiting response... 303 See Other\n",
      "Location: https://doc-0s-ak-docs.googleusercontent.com/docs/securesc/ha0ro937gcuc7l7deffksulhg5h7mbp1/s2f2oudgf239anj929q66t7thb9fjlfb/1684341375000/04796695416015180161/*/1sIDQJqHJ8RAlS0OZxGCKMTKzDxbPrugn?e=download&uuid=9db747de-5f18-46dd-bc59-abe20994a15e [following]\n",
      "Warning: wildcards not supported in HTTP.\n",
      "--2023-05-17 16:36:15--  https://doc-0s-ak-docs.googleusercontent.com/docs/securesc/ha0ro937gcuc7l7deffksulhg5h7mbp1/s2f2oudgf239anj929q66t7thb9fjlfb/1684341375000/04796695416015180161/*/1sIDQJqHJ8RAlS0OZxGCKMTKzDxbPrugn?e=download&uuid=9db747de-5f18-46dd-bc59-abe20994a15e\n",
      "Resolving doc-0s-ak-docs.googleusercontent.com (doc-0s-ak-docs.googleusercontent.com)... 108.177.126.132, 2a00:1450:4013:c01::84\n",
      "Connecting to doc-0s-ak-docs.googleusercontent.com (doc-0s-ak-docs.googleusercontent.com)|108.177.126.132|:443... connected.\n",
      "HTTP request sent, awaiting response... 200 OK\n",
      "Length: 2385 (2.3K) [application/json]\n",
      "Saving to: ‘gdrive_models_storage_key.json’\n",
      "\n",
      "gdrive_models_stora 100%[===================>]   2.33K  --.-KB/s    in 0s      \n",
      "\n",
      "2023-05-17 16:36:16 (80.7 MB/s) - ‘gdrive_models_storage_key.json’ saved [2385/2385]\n",
      "\n"
     ]
    }
   ],
   "source": [
    "!wget 'https://drive.google.com/u/1/uc?id=1sIDQJqHJ8RAlS0OZxGCKMTKzDxbPrugn&export=download' \\\n",
    "  --output-document 'gdrive_models_storage_key.json'"
   ]
  },
  {
   "cell_type": "markdown",
   "id": "b6195aeb",
   "metadata": {},
   "source": [
    "2. Авторизуемся (потребуется установить библиотеки из `external_storage/requirements.txt`)"
   ]
  },
  {
   "cell_type": "code",
   "execution_count": 8,
   "id": "6c66bfac",
   "metadata": {
    "execution": {
     "iopub.execute_input": "2023-05-17T16:36:16.151736Z",
     "iopub.status.busy": "2023-05-17T16:36:16.151399Z",
     "iopub.status.idle": "2023-05-17T16:36:16.600145Z",
     "shell.execute_reply": "2023-05-17T16:36:16.599235Z",
     "shell.execute_reply.started": "2023-05-17T16:36:16.151708Z"
    }
   },
   "outputs": [],
   "source": [
    "from oauth2client.service_account import ServiceAccountCredentials\n",
    "from pydrive.auth import GoogleAuth\n",
    "from pydrive.drive import GoogleDrive\n",
    "\n",
    "\n",
    "credentials = ServiceAccountCredentials.from_json_keyfile_name(\n",
    "    \"./gdrive_models_storage_key.json\",\n",
    "    scopes = ['https://www.googleapis.com/auth/drive.readonly'],\n",
    ")\n",
    "gauth = GoogleAuth()\n",
    "gauth.credentials = credentials"
   ]
  },
  {
   "cell_type": "markdown",
   "id": "73383868",
   "metadata": {},
   "source": [
    "3. Получим локальное хранилище экспериментов"
   ]
  },
  {
   "cell_type": "code",
   "execution_count": 9,
   "id": "3aeba81f",
   "metadata": {
    "execution": {
     "iopub.execute_input": "2023-05-17T16:36:16.604597Z",
     "iopub.status.busy": "2023-05-17T16:36:16.604314Z",
     "iopub.status.idle": "2023-05-17T16:36:20.593532Z",
     "shell.execute_reply": "2023-05-17T16:36:20.592546Z",
     "shell.execute_reply.started": "2023-05-17T16:36:16.604572Z"
    }
   },
   "outputs": [
    {
     "name": "stderr",
     "output_type": "stream",
     "text": [
      "/opt/conda/lib/python3.10/site-packages/scipy/__init__.py:146: UserWarning: A NumPy version >=1.16.5 and <1.23.0 is required for this version of SciPy (detected version 1.23.5\n",
      "  warnings.warn(f\"A NumPy version >={np_minversion} and <{np_maxversion}\"\n"
     ]
    }
   ],
   "source": [
    "from pipeline.experiment_setup import experiments_storage"
   ]
  },
  {
   "cell_type": "markdown",
   "id": "f96f81c5",
   "metadata": {},
   "source": [
    "4. Создадим внешнее храналище"
   ]
  },
  {
   "cell_type": "code",
   "execution_count": 10,
   "id": "dc5ba6e6",
   "metadata": {
    "execution": {
     "iopub.execute_input": "2023-05-17T16:36:23.035214Z",
     "iopub.status.busy": "2023-05-17T16:36:23.034808Z",
     "iopub.status.idle": "2023-05-17T16:36:23.064141Z",
     "shell.execute_reply": "2023-05-17T16:36:23.063244Z",
     "shell.execute_reply.started": "2023-05-17T16:36:23.035157Z"
    }
   },
   "outputs": [],
   "source": [
    "from external_storage.gdrive_storage import GDriveStorage"
   ]
  },
  {
   "cell_type": "code",
   "execution_count": 11,
   "id": "f4d06776",
   "metadata": {
    "execution": {
     "iopub.execute_input": "2023-05-17T16:36:23.526092Z",
     "iopub.status.busy": "2023-05-17T16:36:23.525734Z",
     "iopub.status.idle": "2023-05-17T16:36:23.531332Z",
     "shell.execute_reply": "2023-05-17T16:36:23.530310Z",
     "shell.execute_reply.started": "2023-05-17T16:36:23.526063Z"
    }
   },
   "outputs": [],
   "source": [
    "external_storage = GDriveStorage(experiments_storage,\n",
    "                                 storage_dir_id='1OiLjp7nSeWke-DHXY5ijvYcmKTRlPkrg',  # ID директории на Google Диске\n",
    "                                 gauth=gauth)"
   ]
  },
  {
   "cell_type": "markdown",
   "id": "ce00e19a",
   "metadata": {},
   "source": [
    "Проверим, что внешнее хранилище работает, посмотрев список доступных экспериментов:"
   ]
  },
  {
   "cell_type": "code",
   "execution_count": 12,
   "id": "ee5c61c4",
   "metadata": {
    "execution": {
     "iopub.execute_input": "2023-05-17T16:36:24.380902Z",
     "iopub.status.busy": "2023-05-17T16:36:24.380532Z",
     "iopub.status.idle": "2023-05-17T16:36:29.641204Z",
     "shell.execute_reply": "2023-05-17T16:36:29.640256Z",
     "shell.execute_reply.started": "2023-05-17T16:36:24.380871Z"
    }
   },
   "outputs": [
    {
     "data": {
      "text/plain": [
       "{'no norm, (1e-03, 1e-05), PRD num_clusters=50': (<ModelParts.CONFIG: 'config'>,\n",
       "  <ModelParts.TRAINING_CHECKPOINT: 'training_checkpoint'>),\n",
       " 'test_model': ()}"
      ]
     },
     "execution_count": 12,
     "metadata": {},
     "output_type": "execute_result"
    }
   ],
   "source": [
    "external_storage.list_available_models()"
   ]
  },
  {
   "cell_type": "markdown",
   "id": "e1ffa95f",
   "metadata": {},
   "source": [
    "В возвращаемом этим методом словаре ключе - названия экспериментов, значения - tuple из доступных элементов эксперимента:\n",
    "- `ModelParts.CONFIG` - файл конфигурации обучения\n",
    "- `ModelParts.TRAINING_CHECKPOINT` - промежуточное состояние обучения модели (модель, оптимизаторы и т.д.)"
   ]
  },
  {
   "cell_type": "markdown",
   "id": "9106940e",
   "metadata": {},
   "source": [
    "---"
   ]
  },
  {
   "cell_type": "markdown",
   "id": "34dceab3",
   "metadata": {},
   "source": [
    "Теперь можем загружать обученные модели или их конфигурации. Посмотреть конфигурацию обучения для отдельного эксперимента можно через Google Диск, либо загрузив только файл конфигурации обучения в локальное хранилище. Например:"
   ]
  },
  {
   "cell_type": "code",
   "execution_count": 13,
   "id": "3f9d6047",
   "metadata": {
    "execution": {
     "iopub.execute_input": "2023-05-17T16:36:55.611375Z",
     "iopub.status.busy": "2023-05-17T16:36:55.610633Z",
     "iopub.status.idle": "2023-05-17T16:36:55.615676Z",
     "shell.execute_reply": "2023-05-17T16:36:55.614576Z",
     "shell.execute_reply.started": "2023-05-17T16:36:55.611338Z"
    }
   },
   "outputs": [],
   "source": [
    "# модель без использования какой-либо нормализации, lr генератора и дискриминатора - 1e-03 и 1e-05 соответственно\n",
    "experiment_name = 'no norm, (1e-03, 1e-05), PRD num_clusters=50'"
   ]
  },
  {
   "cell_type": "code",
   "execution_count": 14,
   "id": "5c6d8cf3",
   "metadata": {
    "execution": {
     "iopub.execute_input": "2023-05-17T16:36:56.381964Z",
     "iopub.status.busy": "2023-05-17T16:36:56.380875Z",
     "iopub.status.idle": "2023-05-17T16:36:58.406071Z",
     "shell.execute_reply": "2023-05-17T16:36:58.405129Z",
     "shell.execute_reply.started": "2023-05-17T16:36:56.381917Z"
    }
   },
   "outputs": [],
   "source": [
    "from pipeline.storage import ModelParts\n",
    "\n",
    "\n",
    "external_storage.import_model_part(model_name=experiment_name, part=ModelParts.CONFIG)"
   ]
  },
  {
   "cell_type": "markdown",
   "id": "dabe24e4",
   "metadata": {},
   "source": [
    "Теперь можно удостовериться, что в локальное хранилище экспериментов (директория `./experiments` по умолчанию) был загружен файл конфигурации обучения для данного эксперимента."
   ]
  },
  {
   "cell_type": "markdown",
   "id": "96a41c01",
   "metadata": {},
   "source": [
    "Теперь загрузим обученную модель и замерим какую-нибудь метрику.\n",
    "\n",
    "**Note**: для каждой конфигурации обучения было загружено по одному произвольному результату обучения"
   ]
  },
  {
   "cell_type": "code",
   "execution_count": 15,
   "id": "b0f500a0",
   "metadata": {
    "execution": {
     "iopub.execute_input": "2023-05-17T16:37:00.996082Z",
     "iopub.status.busy": "2023-05-17T16:37:00.995709Z",
     "iopub.status.idle": "2023-05-17T16:37:09.001684Z",
     "shell.execute_reply": "2023-05-17T16:37:09.000730Z",
     "shell.execute_reply.started": "2023-05-17T16:37:00.996051Z"
    }
   },
   "outputs": [],
   "source": [
    "# загрузка всей информации об эксперименте (в т.ч. промежуточного состояния обучения и файла конфигурации обучения)\n",
    "external_storage.import_model(experiment_name)"
   ]
  },
  {
   "cell_type": "code",
   "execution_count": 16,
   "id": "599e32b2",
   "metadata": {
    "execution": {
     "iopub.execute_input": "2023-05-17T16:37:09.003830Z",
     "iopub.status.busy": "2023-05-17T16:37:09.003454Z",
     "iopub.status.idle": "2023-05-17T16:37:09.010315Z",
     "shell.execute_reply": "2023-05-17T16:37:09.008543Z",
     "shell.execute_reply.started": "2023-05-17T16:37:09.003798Z"
    }
   },
   "outputs": [
    {
     "name": "stdout",
     "output_type": "stream",
     "text": [
      "Config for \"no norm, (1e-03, 1e-05), PRD num_clusters=50\" was loaded\n"
     ]
    }
   ],
   "source": [
    "# сделаем файл конфигурации обучения выбранного эксперимента активным\n",
    "experiments_storage.load_config(experiment_name)"
   ]
  },
  {
   "cell_type": "code",
   "execution_count": 17,
   "id": "a2ee2d9e",
   "metadata": {
    "execution": {
     "iopub.execute_input": "2023-05-17T16:37:22.294783Z",
     "iopub.status.busy": "2023-05-17T16:37:22.294409Z",
     "iopub.status.idle": "2023-05-17T16:37:49.929065Z",
     "shell.execute_reply": "2023-05-17T16:37:49.926878Z",
     "shell.execute_reply.started": "2023-05-17T16:37:22.294752Z"
    }
   },
   "outputs": [
    {
     "name": "stdout",
     "output_type": "stream",
     "text": [
      "Checkpoint was loaded. Current epoch: 150\n"
     ]
    }
   ],
   "source": [
    "# получим модель GAN\n",
    "from config.run_experiment import form_gan_trainer\n",
    "\n",
    "# указываем число эпох обучения заведомо меньше числа уже пройденных, чтобы обучение не продолжилось\n",
    "gan_trainer = form_gan_trainer(model_name=experiment_name, n_epochs=-1)\n",
    "# и делаем шаг процедуры обучения (который не будет успешным, и вернётся загруженный GAN)\n",
    "try:\n",
    "    next(gan_trainer)\n",
    "except StopIteration as err:\n",
    "    gan = err.value\n",
    "# в будущем возможно добавление более удобного варианта импорта модели"
   ]
  },
  {
   "cell_type": "markdown",
   "id": "1d1b4243",
   "metadata": {
    "execution": {
     "iopub.execute_input": "2023-05-17T15:27:13.969957Z",
     "iopub.status.busy": "2023-05-17T15:27:13.969576Z",
     "iopub.status.idle": "2023-05-17T15:27:13.976611Z",
     "shell.execute_reply": "2023-05-17T15:27:13.975418Z",
     "shell.execute_reply.started": "2023-05-17T15:27:13.969907Z"
    }
   },
   "source": [
    "Теперь можем замерить некоторые метрики"
   ]
  },
  {
   "cell_type": "code",
   "execution_count": 18,
   "id": "1c9bc6be",
   "metadata": {
    "execution": {
     "iopub.execute_input": "2023-05-17T16:39:35.511354Z",
     "iopub.status.busy": "2023-05-17T16:39:35.510344Z",
     "iopub.status.idle": "2023-05-17T16:39:41.446095Z",
     "shell.execute_reply": "2023-05-17T16:39:41.445073Z",
     "shell.execute_reply.started": "2023-05-17T16:39:35.511305Z"
    }
   },
   "outputs": [],
   "source": [
    "# загрузим валидационную выборку\n",
    "from config.run_experiment import form_dataset\n",
    "\n",
    "\n",
    "val_dataset = form_dataset(train=False)"
   ]
  },
  {
   "cell_type": "code",
   "execution_count": 19,
   "id": "1bae4dde",
   "metadata": {
    "execution": {
     "iopub.execute_input": "2023-05-17T16:39:46.726133Z",
     "iopub.status.busy": "2023-05-17T16:39:46.725752Z",
     "iopub.status.idle": "2023-05-17T16:39:46.733727Z",
     "shell.execute_reply": "2023-05-17T16:39:46.731083Z",
     "shell.execute_reply.started": "2023-05-17T16:39:46.726102Z"
    }
   },
   "outputs": [],
   "source": [
    "# в качестве метрики возьмём усреднённое значение PRD-AUC по бинам по эмбеддингам выходной матрицы\n",
    "from pipeline.custom_metrics import create_conditional_prd_energy_embed, PhysicsDataStatistics\n",
    "\n",
    "metric = PhysicsDataStatistics(\n",
    "    create_conditional_prd_energy_embed(num_clusters=50),\n",
    ")"
   ]
  },
  {
   "cell_type": "code",
   "execution_count": 20,
   "id": "cca4dd3e",
   "metadata": {
    "execution": {
     "iopub.execute_input": "2023-05-17T16:39:48.361147Z",
     "iopub.status.busy": "2023-05-17T16:39:48.360678Z",
     "iopub.status.idle": "2023-05-17T16:47:16.413468Z",
     "shell.execute_reply": "2023-05-17T16:47:16.412167Z",
     "shell.execute_reply.started": "2023-05-17T16:39:48.361095Z"
    }
   },
   "outputs": [
    {
     "name": "stderr",
     "output_type": "stream",
     "text": [
      "100%|██████████| 9/9 [07:07<00:00, 47.55s/it]\n"
     ]
    }
   ],
   "source": [
    "# выход метрик не стандартизован, обработку выходов разных метрик можно найти в `pipeline.metrics_logging`\n",
    "metric_results = metric(gan_model=gan, val_dataset=val_dataset)[0]"
   ]
  },
  {
   "cell_type": "code",
   "execution_count": 21,
   "id": "acc09a40",
   "metadata": {
    "execution": {
     "iopub.execute_input": "2023-05-17T17:16:35.844414Z",
     "iopub.status.busy": "2023-05-17T17:16:35.843590Z",
     "iopub.status.idle": "2023-05-17T17:16:36.082680Z",
     "shell.execute_reply": "2023-05-17T17:16:36.081770Z",
     "shell.execute_reply.started": "2023-05-17T17:16:35.844375Z"
    }
   },
   "outputs": [
    {
     "data": {
      "image/png": "[encoded data removed]",
      "text/plain": [
       "<Figure size 640x480 with 1 Axes>"
      ]
     },
     "metadata": {},
     "output_type": "display_data"
    }
   ],
   "source": [
    "import numpy as np\n",
    "from matplotlib import pyplot as plt\n",
    "\n",
    "dims_bins_cnt = [3, 3]\n",
    "x_lims = [0, 1]\n",
    "y_lims = [0, 1]\n",
    "x_bounds = np.linspace(*x_lims, num=dims_bins_cnt[0]+1)\n",
    "y_bounds = np.linspace(*y_lims, num=dims_bins_cnt[1]+1)\n",
    "\n",
    "fig, ax = plt.subplots()\n",
    "\n",
    "ax.axis('equal')\n",
    "ax.set_xlim(x_bounds[0], x_bounds[-1])\n",
    "ax.set_ylim(y_bounds[0], y_bounds[-1])\n",
    "ax.set_xlabel('x')\n",
    "ax.set_ylabel('y')\n",
    "\n",
    "for x_bound in x_bounds:\n",
    "    ax.axvline(x_bound)\n",
    "for y_bound in y_bounds:\n",
    "    ax.axhline(y_bound)\n",
    "\n",
    "for k, val in enumerate(metric_results):\n",
    "    i = (k % dims_bins_cnt[0])\n",
    "    j = k // dims_bins_cnt[0]\n",
    "    x = (x_bounds[i] + x_bounds[i+1]) / 2\n",
    "    y = (y_bounds[j] + y_bounds[j+1]) / 2\n",
    "    ax.text(x-0.05, y, f'{val:.3f}', fontsize=13)\n",
    "    ax.text(x, y-0.1, k, color='blue', fontsize=10)\n",
    "\n",
    "ax.axis('off')\n",
    "ax.set_title('Значение PRD-AUC в каждом из бинов при разбиении по эмбеддингам выходной матрицы')\n",
    "plt.show()"
   ]
  },
  {
   "cell_type": "markdown",
   "id": "73eb8109",
   "metadata": {},
   "source": [
    "Чёрным в каждом бине указано значение PRD-AUC, синим - индекс бина."
   ]
  },
  {
   "cell_type": "code",
   "execution_count": 22,
   "id": "44a21aae",
   "metadata": {
    "execution": {
     "iopub.execute_input": "2023-05-17T17:16:41.808476Z",
     "iopub.status.busy": "2023-05-17T17:16:41.807971Z",
     "iopub.status.idle": "2023-05-17T17:16:41.817609Z",
     "shell.execute_reply": "2023-05-17T17:16:41.816359Z",
     "shell.execute_reply.started": "2023-05-17T17:16:41.808436Z"
    }
   },
   "outputs": [
    {
     "name": "stdout",
     "output_type": "stream",
     "text": [
      "Среднее значение PRD-AUC по эмбеддингам выходной матрицы: 0.640\n"
     ]
    }
   ],
   "source": [
    "print(f'Среднее значение PRD-AUC по эмбеддингам выходной матрицы: {np.mean(metric_results):.3f}')"
   ]
  }
 ],
 "metadata": {
  "kernelspec": {
   "display_name": "Python 3 (ipykernel)",
   "language": "python",
   "name": "python3"
  },
  "language_info": {
   "codemirror_mode": {
    "name": "ipython",
    "version": 3
   },
   "file_extension": ".py",
   "mimetype": "text/x-python",
   "name": "python",
   "nbconvert_exporter": "python",
   "pygments_lexer": "ipython3",
   "version": "3.10.8"
  }
 },
 "nbformat": 4,
 "nbformat_minor": 5
}
